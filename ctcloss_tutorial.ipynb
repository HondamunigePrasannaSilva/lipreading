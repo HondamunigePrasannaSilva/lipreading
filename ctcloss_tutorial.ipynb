{
 "cells": [
  {
   "attachments": {},
   "cell_type": "markdown",
   "metadata": {},
   "source": [
    "# Tutorial Notebook to use CTC loss, a toy example"
   ]
  },
  {
   "cell_type": "code",
   "execution_count": null,
   "metadata": {},
   "outputs": [],
   "source": [
    "import torch\n",
    "import torch.nn as nn\n",
    "import torch.optim as optim\n",
    "from utils import *"
   ]
  },
  {
   "attachments": {},
   "cell_type": "markdown",
   "metadata": {},
   "source": [
    "### Preparing the data!"
   ]
  },
  {
   "cell_type": "code",
   "execution_count": null,
   "metadata": {},
   "outputs": [],
   "source": [
    "# Define the sequence and target labels\n",
    "sequence = \"hhhheeelllooo0iiiiaaaamm0sssssillllvvvaa\"\n",
    "\n",
    "target =\"hello0iam0silva\"\n",
    "\n",
    "# Define the vocabulary\n",
    "vocabulary = ['-','h', 'e', 'l', 'o','a','b','c','d', '0','i','m','s','v']\n",
    "\n",
    "# Create a mapping from characters to indices\n",
    "char_to_index = {char: index for index, char in enumerate(vocabulary)}\n",
    "\n",
    "# Convert the sequence and target to indices\n",
    "sequence_indices = [char_to_index[char] for char in sequence]\n",
    "target_indices = [char_to_index[char] for char in target]\n",
    "\n",
    "# Convert the indices to PyTorch tensors\n",
    "sequence_tensor = torch.tensor(sequence_indices).unsqueeze(0)  # Add a batch dimension\n",
    "target_tensor = torch.tensor(target_indices)"
   ]
  },
  {
   "attachments": {},
   "cell_type": "markdown",
   "metadata": {},
   "source": [
    "### Define the model using RNN"
   ]
  },
  {
   "cell_type": "code",
   "execution_count": null,
   "metadata": {},
   "outputs": [],
   "source": [
    "# Define the model\n",
    "class Model(nn.Module):\n",
    "    def __init__(self, num_classes):\n",
    "        super(Model, self).__init__()\n",
    "        self.num_classes = num_classes\n",
    "        self.rnn = nn.RNN(input_size=1, hidden_size=128, bidirectional=True, batch_first=True)\n",
    "        self.fc = nn.Linear(256, num_classes)\n",
    "    \n",
    "    def forward(self, x):\n",
    "        x = x.permute(1,0)\n",
    "        out, _ = self.rnn(x.to(torch.float32))\n",
    "        out = self.fc(out)\n",
    "        return out"
   ]
  },
  {
   "attachments": {},
   "cell_type": "markdown",
   "metadata": {},
   "source": [
    "### Train loop"
   ]
  },
  {
   "cell_type": "code",
   "execution_count": null,
   "metadata": {},
   "outputs": [],
   "source": [
    "# Initialize the model\n",
    "model = Model(len(vocabulary))\n",
    "\n",
    "# Define the CTC loss function\n",
    "ctc_loss = nn.CTCLoss()\n",
    "\n",
    "# Define the optimizer\n",
    "optimizer = optim.Adam(model.parameters(), lr=0.001)\n",
    "\n",
    "# Training loop\n",
    "num_epochs = 1000\n",
    "for epoch in range(num_epochs):\n",
    "    optimizer.zero_grad()\n",
    "    output = model(sequence_tensor)\n",
    "    \n",
    "    output = output[None,:,:]\n",
    "    output = output.permute(1, 0, 2)  # Swap batch and sequence dimensions\n",
    "    \n",
    "    input_lengths = torch.full((sequence_tensor.size(0),), output.size(0), dtype=torch.long)\n",
    "    target_lengths = torch.full((target_tensor.size(0),), target_tensor.size(0), dtype=torch.long)\n",
    "    \n",
    "    loss = ctc_loss(output, target_tensor, input_lengths, target_lengths[0])\n",
    "    loss.backward()\n",
    "    optimizer.step()\n",
    "\n",
    "    if (epoch + 1) % 100 == 0:\n",
    "        print(f\"Epoch [{epoch+1}/{num_epochs}], Loss: {loss.item()}\")\n",
    "        e = torch.argmax(output, dim=2).squeeze(1)\n",
    "        output_sequence = ''.join([vocabulary[index] for index in e])\n",
    "        print(\"Output: \", output_sequence)\n",
    "\n"
   ]
  },
  {
   "attachments": {},
   "cell_type": "markdown",
   "metadata": {},
   "source": [
    "### Output of the model"
   ]
  },
  {
   "cell_type": "code",
   "execution_count": null,
   "metadata": {},
   "outputs": [],
   "source": [
    "# Decode the output sequence\n",
    "output_indices = torch.argmax(output, dim=2).squeeze(1)\n",
    "output_sequence = ''.join([vocabulary[index] for index in output_indices])\n",
    "\n",
    "print(\"Original Sequence:\", sequence)\n",
    "print(\"Target Sequence:\", target)\n",
    "print(\"Decoded Output:\", process_string(output_sequence))"
   ]
  }
 ],
 "metadata": {
  "kernelspec": {
   "display_name": "env",
   "language": "python",
   "name": "python3"
  },
  "language_info": {
   "codemirror_mode": {
    "name": "ipython",
    "version": 3
   },
   "file_extension": ".py",
   "mimetype": "text/x-python",
   "name": "python",
   "nbconvert_exporter": "python",
   "pygments_lexer": "ipython3",
   "version": "3.10.11"
  },
  "orig_nbformat": 4,
  "vscode": {
   "interpreter": {
    "hash": "5e60b588e56b1bd547ea8afbc4b0f4ab4b79ce7cedb5d172a4ce68e35ca79034"
   }
  }
 },
 "nbformat": 4,
 "nbformat_minor": 2
}
