{
 "cells": [
  {
   "cell_type": "code",
   "execution_count": 6,
   "metadata": {},
   "outputs": [],
   "source": [
    "import torch\n",
    "import torch.nn as nn\n",
    "import torch.optim as optim\n",
    "\n",
    "#from torchtext.legacy.datasets import Multi30k\n",
    "#from torchtext.legacy.data import Field, BucketIterator\n",
    "\n",
    "#import spacy\n",
    "import numpy as np\n",
    "\n",
    "import random\n",
    "import math\n",
    "import time\n",
    "\n",
    "# model file, encoder, decoder and seqtoseq\n",
    "from model import *\n",
    "# utils file\n",
    "from utils import *\n",
    "# Get landmark using vocadataset.py\n",
    "from data.vocaset import *"
   ]
  },
  {
   "cell_type": "code",
   "execution_count": null,
   "metadata": {},
   "outputs": [],
   "source": [
    "device = torch.device('cuda' if torch.cuda.is_available() else 'cpu')"
   ]
  },
  {
   "cell_type": "code",
   "execution_count": null,
   "metadata": {},
   "outputs": [],
   "source": [
    "class Encoder(nn.Module):\n",
    "    def __init__(self, input_dim, emb_dim, hid_dim, n_layers, dropout):\n",
    "        super().__init__()\n",
    "        \n",
    "        self.hid_dim = hid_dim\n",
    "        \n",
    "        #self.embedding = nn.Embedding(input_dim, emb_dim) FOR NOW WE DON't HAVE INPUT EMBEDDINGS\n",
    "        \n",
    "        self.rnn = nn.RNN(input_size=68*3, hidden_size=128, bidirectional=True, batch_first=True)\n",
    "        \n",
    "        #self.dropout = nn.Dropout(dropout)\n",
    "        \n",
    "    def forward(self, x):\n",
    "\n",
    "        #The input to the encoder are the landmarks\n",
    "        #x = [batch size, sequence_len , 68*3]\n",
    "        \n",
    "        #embedded = self.dropout(self.embedding(src))FOR NOW WE DON't HAVE INPUT EMBEDDINGS\n",
    "        \n",
    "        #embedded = [src len, batch size, emb dim]\n",
    "\n",
    "        out, hid = self.rnn(x)\n",
    "        \n",
    "        #out = [batch size, src len, hid dim * n directions]\n",
    "        #hidd = [n directions, batch size, hid dim]\n",
    "        \n",
    "        #outputs are always from the top hidden layer\n",
    "\n",
    "        #print(\"ENCODER: hid.shape: \", hid.shape)\n",
    "        print(\"ENCODER: hid:\\n\", hid)\n",
    "        return hid\n",
    "\n"
   ]
  },
  {
   "cell_type": "code",
   "execution_count": null,
   "metadata": {},
   "outputs": [],
   "source": [
    "class Decoder(nn.Module):\n",
    "    def __init__(self, output_dim, emb_dim, hid_dim, n_layers, dropout):\n",
    "        super().__init__()\n",
    "        \n",
    "        self.output_dim = output_dim\n",
    "        self.hid_dim = hid_dim\n",
    "        #self.n_layers = n_layers\n",
    "        \n",
    "        #self.embedding = nn.Embedding(output_dim, emb_dim)FOR NOW WE DON't HAVE INPUT EMBEDDINGS\n",
    "        self.rnn = nn.RNN(input_size=1, hidden_size=128, bidirectional=True, batch_first=True)\n",
    "        \n",
    "        self.fc_out = nn.Linear(2*hid_dim, output_dim)\n",
    "        \n",
    "        self.dropout = nn.Dropout(dropout)\n",
    "        \n",
    "    def forward(self, input, hidden):\n",
    "        \n",
    "        #input = [batch size]\n",
    "        #hidden = [n layers * n directions, batch size, hid dim]\n",
    "        #cell = [n layers * n directions, batch size, hid dim]\n",
    "        \n",
    "        #n directions in the decoder will both always be 1, therefore:\n",
    "        #hidden = [n layers, batch size, hid dim]\n",
    "        #context = [n layers, batch size, hid dim]\n",
    "        \n",
    "        #input = input.unsqueeze(0).unsqueeze(0)COMMENTED TO DEBUG\n",
    "\n",
    "        #print(\"DECODER: input.shape\", input.shape)\n",
    "        \n",
    "        #input = [batch size, 1]\n",
    "        \n",
    "        #embedded = self.dropout(self.embedding(input))\n",
    "        \n",
    "        #embedded = [1, batch size, emb dim]\n",
    "                \n",
    "        output, hidden = self.rnn(input.to(torch.float32), hidden)\n",
    "        \n",
    "        #output = [seq len, batch size, hid dim * n directions]\n",
    "        #hidden = [n layers * n directions, batch size, hid dim]\n",
    "        #cell = [n layers * n directions, batch size, hid dim]\n",
    "        \n",
    "        #seq len and n directions will always be 1 in the decoder, therefore:\n",
    "        #output = [1, batch size, hid dim]\n",
    "        #hidden = [n layers, batch size, hid dim]\n",
    "        #cell = [n layers, batch size, hid dim]\n",
    "        \n",
    "        prediction = self.fc_out(output.squeeze(0))\n",
    "        \n",
    "        #prediction = [batch size, output dim]\n",
    "\n",
    "        #print(\"DECODER: prediction.shape\", prediction.shape)\n",
    "        \n",
    "        return prediction, hidden"
   ]
  },
  {
   "cell_type": "code",
   "execution_count": null,
   "metadata": {},
   "outputs": [],
   "source": [
    "class Seq2Seq(nn.Module):\n",
    "    def __init__(self, encoder, decoder, device):\n",
    "        super().__init__()\n",
    "        \n",
    "        self.encoder = encoder\n",
    "        self.decoder = decoder\n",
    "        self.device = device\n",
    "        \n",
    "        #assert encoder.hid_dim == decoder.hid_dim, \\\n",
    "        #    \"Hidden dimensions of encoder and decoder must be equal!\"\n",
    "        #assert encoder.n_layers == decoder.n_layers, \\\n",
    "        #    \"Encoder and decoder must have equal number of layers!\"\n",
    "        \n",
    "    def forward(self, src, trg):\n",
    "        \n",
    "        #src = [src len, batch size]\n",
    "        #trg = [trg len, batch size]\n",
    "        #teacher_forcing_ratio is probability to use teacher forcing\n",
    "        #e.g. if teacher_forcing_ratio is 0.75 we use ground-truth inputs 75% of the time\n",
    "        \n",
    "        batch_size = trg.shape[0]\n",
    "        trg_len = src.shape[0]#FIXME Forse qui non ho passato i landmark con la dimensione del batch in testa\n",
    "        trg_vocab_size = self.decoder.output_dim\n",
    "        \n",
    "        #tensor to store decoder outputs\n",
    "        outputs = torch.zeros(trg_len, batch_size, trg_vocab_size).to(self.device)\n",
    "        \n",
    "        #last hidden state of the encoder is used as the initial hidden state of the decoder\n",
    "        hidden = self.encoder(src)\n",
    "        hidden = hidden.unsqueeze(1)\n",
    "        #print(\"SEQ2SEQ: hidden.shape: \", hidden.shape)\n",
    "        \n",
    "        #first input to the decoder is the <sos> tokens\n",
    "        input = torch.tensor(31).unsqueeze(0).unsqueeze(0).unsqueeze(0)#trg[0,:] 31 is the index of <sos>\n",
    "        #print(\"SEQ2SEQ: input.shape: \", input.shape)\n",
    "        \n",
    "        for t in range(1, trg_len):\n",
    "            \n",
    "            #insert input token embedding, previous hidden and previous cell states\n",
    "            #receive output tensor (predictions) and new hidden and cell states\n",
    "            #print(\"SEQ2SEQ-FOR: input.shape: \", input.shape)\n",
    "            #print(\"SEQ2SEQ-FOR: hidden.shape: \", hidden.shape)\n",
    "            output, hidden = self.decoder(input, hidden)\n",
    "            #print(\"SEQ2SEQ-FOR: output.shape: \", output.shape)\n",
    "            \n",
    "            output = output.unsqueeze(0)#ADDED TO BE CHECKED\n",
    "\n",
    "            #place predictions in a tensor holding predictions for each token\n",
    "            outputs[t] = output\n",
    "            \n",
    "            #get the highest predicted token from our predictions\n",
    "            top1 = output.argmax(2) \n",
    "\n",
    "            input = top1.unsqueeze(0)\n",
    "            #print(\"SEQ2SEQ-FOR: top1.shape: \", top1.shape)\n",
    "        \n",
    "        return outputs"
   ]
  },
  {
   "cell_type": "code",
   "execution_count": null,
   "metadata": {},
   "outputs": [],
   "source": []
  },
  {
   "cell_type": "code",
   "execution_count": 7,
   "metadata": {},
   "outputs": [
    {
     "name": "stdout",
     "output_type": "stream",
     "text": [
      "['-', 'a', 'b', 'c', 'd', 'e', 'f', 'g', 'h', 'i', 'j', 'k', 'l', 'm', 'n', 'o', 'p', 'q', 'r', 's', 't', 'u', 'v', 'w', 'x', 'y', 'z', '.', '?', ',', '!', '@', '#', ' ']\n"
     ]
    }
   ],
   "source": [
    "# Print the vocabulary\n",
    "print(vocabulary(blank='-', start='@', stop='#'))"
   ]
  },
  {
   "cell_type": "code",
   "execution_count": null,
   "metadata": {},
   "outputs": [],
   "source": [
    "# Get landmark from vocadaset class\n",
    "trainset = vocadataset(\"train\", landmark=True)\n",
    "landmark, labels = trainset[0]"
   ]
  },
  {
   "cell_type": "code",
   "execution_count": null,
   "metadata": {},
   "outputs": [],
   "source": [
    "# Test labels!\n",
    "print(\"Before:\", labels)\n",
    "labels = '@'+labels+'#'         #Concatenating the start and stop character\n",
    "print(\"After:\", labels)"
   ]
  },
  {
   "cell_type": "code",
   "execution_count": null,
   "metadata": {},
   "outputs": [],
   "source": [
    "input_dim = 68*3\n",
    "emb_dim = 0\n",
    "hid_dim = 128\n",
    "n_layers = 0\n",
    "dropout = 0\n",
    "\n",
    "\n",
    "#model = Encoder(input_dim, emb_dim, hid_dim, n_layers, dropout)\n",
    "\n",
    "reshaped_landmark = torch.reshape(landmark, (landmark.shape[0], landmark.shape[1]*landmark.shape[2]))\n",
    "start_landmark = torch.zeros(1, 68*3)\n",
    "stop_landmark = torch.ones(1, 68*3)\n",
    "\n",
    "final_landmarks = torch.cat((start_landmark, reshaped_landmark, stop_landmark), 0)\n",
    "\n",
    "#out = model(reshaped_landmark)"
   ]
  },
  {
   "cell_type": "code",
   "execution_count": null,
   "metadata": {},
   "outputs": [],
   "source": [
    "# Create a mapping from characters to indices\n",
    "char_to_index = {char: index for index, char in enumerate(vocabulary)}"
   ]
  },
  {
   "cell_type": "code",
   "execution_count": null,
   "metadata": {},
   "outputs": [],
   "source": [
    "print(char_to_index)"
   ]
  },
  {
   "cell_type": "code",
   "execution_count": null,
   "metadata": {},
   "outputs": [],
   "source": [
    "# Convert the sequence and target to indices\n",
    "#sequence_indices = [char_to_index[char] for char in sequence]\n",
    "target_indices = [char_to_index[char] for char in labels]\n",
    "target_tensor = torch.tensor(target_indices)"
   ]
  },
  {
   "cell_type": "code",
   "execution_count": null,
   "metadata": {},
   "outputs": [],
   "source": [
    "target_indices"
   ]
  },
  {
   "cell_type": "code",
   "execution_count": null,
   "metadata": {},
   "outputs": [],
   "source": [
    "output_dim = len(vocabulary)\n",
    "\n",
    "enc = Encoder(input_dim, emb_dim, hid_dim, n_layers, dropout)\n",
    "dec = Decoder(output_dim, emb_dim, hid_dim, n_layers, dropout)\n",
    "\n",
    "model = Seq2Seq(enc, dec, 'cpu')#.to(device)\n",
    "\n",
    "reshaped_landmark = torch.reshape(landmark, (landmark.shape[0], landmark.shape[1]*landmark.shape[2]))\n",
    "start_landmark = torch.zeros(1, 68*3)\n",
    "stop_landmark = torch.ones(1, 68*3)\n",
    "\n",
    "final_landmarks = torch.cat((start_landmark, reshaped_landmark, stop_landmark), 0)\n",
    "\n"
   ]
  },
  {
   "cell_type": "code",
   "execution_count": null,
   "metadata": {},
   "outputs": [],
   "source": [
    "# Define the CTC loss function\n",
    "ctc_loss = nn.CTCLoss()\n",
    "\n",
    "# Define the optimizer\n",
    "optimizer = optim.Adam(model.parameters(), lr=0.001)\n",
    "\n",
    "# Training loop\n",
    "num_epochs = 10\n",
    "for epoch in range(num_epochs):\n",
    "    optimizer.zero_grad()\n",
    "    output = model(reshaped_landmark, target_tensor[None,:])\n",
    "\n",
    "    #output = output[None,:,:]\n",
    "    #output = output.permute(1, 0, 2)  # Swap batch and sequence dimensions\n",
    "    \n",
    "    e = torch.argmax(output, dim=2).squeeze(1)\n",
    "    output_sequence = ''.join([vocabulary[index] for index in e])\n",
    "    print(output_sequence)\n",
    "\n",
    "    \n",
    "    input_lengths = torch.full((1,), output.size(0), dtype=torch.long)\n",
    "    target_lengths = torch.full((target_tensor.size(0),), target_tensor.size(0), dtype=torch.long)\n",
    "    \n",
    "    loss = ctc_loss(output, target_tensor, input_lengths, target_lengths[0])\n",
    "    loss.backward()\n",
    "    optimizer.step()\n",
    "\n",
    "    if (epoch + 1) % 10 == 0:\n",
    "        print(f\"Epoch [{epoch+1}/{num_epochs}], Loss: {loss.item()}\")\n",
    "\n"
   ]
  },
  {
   "cell_type": "code",
   "execution_count": null,
   "metadata": {},
   "outputs": [],
   "source": [
    "target_tensor"
   ]
  },
  {
   "cell_type": "code",
   "execution_count": null,
   "metadata": {},
   "outputs": [],
   "source": [
    "output.shape"
   ]
  },
  {
   "cell_type": "code",
   "execution_count": null,
   "metadata": {},
   "outputs": [],
   "source": [
    "# Decode the output sequence\n",
    "output_indices = torch.argmax(output, dim=2).squeeze(1)\n",
    "output_sequence = ''.join([vocabulary[index] for index in output_indices])\n",
    "\n",
    "print(\"Original Sequence:\", sequence)\n",
    "print(\"Target Sequence:\", target)\n",
    "\n",
    "def process_string(input_string):\n",
    "    output_string = \"\"\n",
    "    current_char = \"\"\n",
    "\n",
    "    for char in input_string:\n",
    "        if char != current_char:\n",
    "            if char.isalpha() or char == '0':\n",
    "                if char == '0':\n",
    "                    output_string += ' '\n",
    "                else:\n",
    "                    output_string += char   \n",
    "            current_char = char\n",
    "\n",
    "    return output_string.strip()\n",
    "\n",
    "print(\"Decoded Output:\", process_string(output_sequence))"
   ]
  }
 ],
 "metadata": {
  "kernelspec": {
   "display_name": "env",
   "language": "python",
   "name": "python3"
  },
  "language_info": {
   "codemirror_mode": {
    "name": "ipython",
    "version": 3
   },
   "file_extension": ".py",
   "mimetype": "text/x-python",
   "name": "python",
   "nbconvert_exporter": "python",
   "pygments_lexer": "ipython3",
   "version": "3.10.11"
  },
  "orig_nbformat": 4,
  "vscode": {
   "interpreter": {
    "hash": "5e60b588e56b1bd547ea8afbc4b0f4ab4b79ce7cedb5d172a4ce68e35ca79034"
   }
  }
 },
 "nbformat": 4,
 "nbformat_minor": 2
}
