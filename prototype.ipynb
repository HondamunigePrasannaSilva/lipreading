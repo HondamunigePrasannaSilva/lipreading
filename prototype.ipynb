{
 "cells": [
  {
   "attachments": {},
   "cell_type": "markdown",
   "metadata": {},
   "source": [
    "# Prototype of lipreading pipeline"
   ]
  },
  {
   "cell_type": "code",
   "execution_count": 1,
   "metadata": {},
   "outputs": [],
   "source": [
    "import torch\n",
    "import torch.nn as nn\n",
    "import torch.optim as optim\n",
    "\n",
    "#from torchtext.legacy.datasets import Multi30k\n",
    "#from torchtext.legacy.data import Field, BucketIterator\n",
    "\n",
    "#import spacy\n",
    "import numpy as np\n",
    "\n",
    "import random\n",
    "import math\n",
    "import time\n",
    "\n",
    "# model file, encoder, decoder and seqtoseq\n",
    "from model import *\n",
    "# utils file\n",
    "from utils import *\n",
    "# Get landmark using vocadataset.py\n",
    "from data.vocaset import *\n",
    "\n",
    "device = torch.device('cuda' if torch.cuda.is_available() else 'cpu')"
   ]
  },
  {
   "cell_type": "code",
   "execution_count": 2,
   "metadata": {},
   "outputs": [],
   "source": [
    "trainset = vocadataset(\"train\", landmark=True)\n",
    "dataloader = DataLoader(trainset, batch_size=32, collate_fn=collate_fn)"
   ]
  },
  {
   "cell_type": "code",
   "execution_count": 3,
   "metadata": {},
   "outputs": [],
   "source": [
    "# Create a mapping from characters to indices\n",
    "vocabulary = vocabulary(blank='-', start='@', stop='#')"
   ]
  },
  {
   "cell_type": "code",
   "execution_count": 7,
   "metadata": {},
   "outputs": [
    {
     "data": {
      "text/plain": [
       "\"'\""
      ]
     },
     "execution_count": 7,
     "metadata": {},
     "output_type": "execute_result"
    }
   ],
   "source": [
    "string.punctuation[6]"
   ]
  },
  {
   "cell_type": "code",
   "execution_count": 10,
   "metadata": {},
   "outputs": [
    {
     "data": {
      "text/plain": [
       "['-',\n",
       " 'a',\n",
       " 'b',\n",
       " 'c',\n",
       " 'd',\n",
       " 'e',\n",
       " 'f',\n",
       " 'g',\n",
       " 'h',\n",
       " 'i',\n",
       " 'j',\n",
       " 'k',\n",
       " 'l',\n",
       " 'm',\n",
       " 'n',\n",
       " 'o',\n",
       " 'p',\n",
       " 'q',\n",
       " 'r',\n",
       " 's',\n",
       " 't',\n",
       " 'u',\n",
       " 'v',\n",
       " 'w',\n",
       " 'x',\n",
       " 'y',\n",
       " 'z',\n",
       " '.',\n",
       " '?',\n",
       " ',',\n",
       " '!',\n",
       " \"'\",\n",
       " '@',\n",
       " '#',\n",
       " ' ']"
      ]
     },
     "execution_count": 10,
     "metadata": {},
     "output_type": "execute_result"
    }
   ],
   "source": [
    "vocabulary"
   ]
  },
  {
   "cell_type": "code",
   "execution_count": 8,
   "metadata": {},
   "outputs": [],
   "source": [
    "LANDMARK_DIM = 68\n",
    "INPUT_DIM = LANDMARK_DIM*3\n",
    "HID_DIM = 128\n",
    "output_dim = len(vocabulary)\n",
    "\n",
    "enc = Encoder(INPUT_DIM, HID_DIM)\n",
    "dec = Decoder(output_dim, HID_DIM)\n",
    "model = Seq2Seq(enc, dec, 'cpu')\n"
   ]
  },
  {
   "cell_type": "code",
   "execution_count": 9,
   "metadata": {},
   "outputs": [
    {
     "ename": "KeyError",
     "evalue": "'’'",
     "output_type": "error",
     "traceback": [
      "\u001b[0;31m---------------------------------------------------------------------------\u001b[0m",
      "\u001b[0;31mKeyError\u001b[0m                                  Traceback (most recent call last)",
      "Cell \u001b[0;32mIn[9], line 18\u001b[0m\n\u001b[1;32m     15\u001b[0m \u001b[39m# label to char\u001b[39;00m\n\u001b[1;32m     16\u001b[0m optimizer\u001b[39m.\u001b[39mzero_grad()\n\u001b[0;32m---> 18\u001b[0m label \u001b[39m=\u001b[39m chat_to_index_batch(label, vocabulary)\n\u001b[1;32m     20\u001b[0m output \u001b[39m=\u001b[39m model(landmarks, label)\n\u001b[1;32m     23\u001b[0m input_lengths \u001b[39m=\u001b[39m torch\u001b[39m.\u001b[39mfull((\u001b[39m1\u001b[39m,), output\u001b[39m.\u001b[39msize(\u001b[39m0\u001b[39m), dtype\u001b[39m=\u001b[39mtorch\u001b[39m.\u001b[39mlong)\n",
      "File \u001b[0;32m~/lipreading/utils.py:115\u001b[0m, in \u001b[0;36mchat_to_index_batch\u001b[0;34m(label, vocabulary)\u001b[0m\n\u001b[1;32m    112\u001b[0m labels \u001b[39m=\u001b[39m []\n\u001b[1;32m    113\u001b[0m \u001b[39mfor\u001b[39;00m ilab \u001b[39min\u001b[39;00m label:\n\u001b[0;32m--> 115\u001b[0m     target_indices \u001b[39m=\u001b[39m [char_to_index[char] \u001b[39mfor\u001b[39;49;00m char \u001b[39min\u001b[39;49;00m ilab]\n\u001b[1;32m    116\u001b[0m     \u001b[39m#print(target_indices)\u001b[39;00m\n\u001b[1;32m    117\u001b[0m     labels\u001b[39m.\u001b[39mappend(target_indices)\n",
      "File \u001b[0;32m~/lipreading/utils.py:115\u001b[0m, in \u001b[0;36m<listcomp>\u001b[0;34m(.0)\u001b[0m\n\u001b[1;32m    112\u001b[0m labels \u001b[39m=\u001b[39m []\n\u001b[1;32m    113\u001b[0m \u001b[39mfor\u001b[39;00m ilab \u001b[39min\u001b[39;00m label:\n\u001b[0;32m--> 115\u001b[0m     target_indices \u001b[39m=\u001b[39m [char_to_index[char] \u001b[39mfor\u001b[39;00m char \u001b[39min\u001b[39;00m ilab]\n\u001b[1;32m    116\u001b[0m     \u001b[39m#print(target_indices)\u001b[39;00m\n\u001b[1;32m    117\u001b[0m     labels\u001b[39m.\u001b[39mappend(target_indices)\n",
      "\u001b[0;31mKeyError\u001b[0m: '’'"
     ]
    }
   ],
   "source": [
    "# With batch\n",
    "\n",
    "# Define the CTC loss function\n",
    "ctc_loss = nn.CTCLoss()\n",
    "\n",
    "# Define the optimizer\n",
    "optimizer = optim.Adam(model.parameters(), lr=0.001)\n",
    "\n",
    "# Training loop\n",
    "num_epochs = 100\n",
    "for epoch in range(num_epochs):\n",
    "    for landmarks, len_landmark, label, len_label in dataloader:\n",
    "        # reshape the batch from [batch_size, frame_size, num_landmark, 3] to [batch_size, frame_size, num_landmark * 3] \n",
    "        landmarks = torch.reshape(landmarks, (landmarks.shape[0], landmarks.shape[1], landmarks.shape[2]*landmarks.shape[3]))\n",
    "        # label to char\n",
    "        optimizer.zero_grad()\n",
    "        \n",
    "        label = char_to_index_batch(label, vocabulary)\n",
    "\n",
    "        output = model(landmarks, label)\n",
    "        \n",
    "\n",
    "        input_lengths = torch.full((1,), output.size(0), dtype=torch.long)\n",
    "\n",
    "        #target_lengths = torch.full((target_tensor.size(0),), target_tensor.size(0), dtype=torch.long)\n",
    "        \n",
    "        loss = ctc_loss(output, label, input_lengths, len_label)\n",
    "        loss.backward()\n",
    "        optimizer.step()\n",
    "\n",
    "        if (epoch + 1) % 10 == 0:\n",
    "            print(f\"Epoch [{epoch+1}/{num_epochs}], Loss: {loss.item()}\")\n",
    "            #e = torch.argmax(output, dim=2).squeeze(1)\n",
    "            #output_sequence = ''.join([vocabulary[index] for index in e])\n",
    "            #print(output_sequence)\n",
    "            torch.save(model.state_dict(), \"models/model.pt\")\n",
    "\n",
    "\n"
   ]
  },
  {
   "cell_type": "code",
   "execution_count": null,
   "metadata": {},
   "outputs": [],
   "source": [
    "# Define the CTC loss function\n",
    "ctc_loss = nn.CTCLoss()\n",
    "\n",
    "# Define the optimizer\n",
    "optimizer = optim.Adam(model.parameters(), lr=0.001)\n",
    "\n",
    "# Training loop\n",
    "num_epochs = 100\n",
    "for epoch in range(num_epochs):\n",
    "    \n",
    "    optimizer.zero_grad()\n",
    "    output = model(reshaped_landmark, target_tensor[None,:])\n",
    "    \n",
    "\n",
    "    input_lengths = torch.full((1,), output.size(0), dtype=torch.long)\n",
    "    target_lengths = torch.full((target_tensor.size(0),), target_tensor.size(0), dtype=torch.long)\n",
    "    \n",
    "    loss = ctc_loss(output, target_tensor, input_lengths, target_lengths[0])\n",
    "    loss.backward()\n",
    "    optimizer.step()\n",
    "\n",
    "    if (epoch + 1) % 10 == 0:\n",
    "        print(f\"Epoch [{epoch+1}/{num_epochs}], Loss: {loss.item()}\")\n",
    "        #e = torch.argmax(output, dim=2).squeeze(1)\n",
    "        #output_sequence = ''.join([vocabulary[index] for index in e])\n",
    "        #print(output_sequence)\n",
    "        torch.save(model.state_dict(), \"models/model.pt\")\n",
    "\n",
    "\n"
   ]
  },
  {
   "cell_type": "code",
   "execution_count": null,
   "metadata": {},
   "outputs": [],
   "source": [
    "# Decode the output sequence\n",
    "#output_indices = torch.argmax(output, dim=2).squeeze(1)\n",
    "#output_sequence = ''.join([vocabulary[index] for index in output_indices])\n",
    "\n",
    "#print(\"Target Sequence:\", labels.replace(\"@\",\"\").replace(\"#\",\"\"))\n",
    "#print(\"Decoded Output:\", process_string(\"-she had your dark suit in greasy  wwwaash  waterr  all-ll-  --yy--eeaa-----------------------------------------------------------------------------------------------------------------------------------------------------------------------------\"))"
   ]
  }
 ],
 "metadata": {
  "kernelspec": {
   "display_name": "env",
   "language": "python",
   "name": "python3"
  },
  "language_info": {
   "codemirror_mode": {
    "name": "ipython",
    "version": 3
   },
   "file_extension": ".py",
   "mimetype": "text/x-python",
   "name": "python",
   "nbconvert_exporter": "python",
   "pygments_lexer": "ipython3",
   "version": "3.11.3"
  },
  "orig_nbformat": 4,
  "vscode": {
   "interpreter": {
    "hash": "5e60b588e56b1bd547ea8afbc4b0f4ab4b79ce7cedb5d172a4ce68e35ca79034"
   }
  }
 },
 "nbformat": 4,
 "nbformat_minor": 2
}
