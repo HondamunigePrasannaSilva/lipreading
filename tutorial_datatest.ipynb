{
 "cells": [
  {
   "attachments": {},
   "cell_type": "markdown",
   "metadata": {},
   "source": [
    "Notebook to test dataset and dataloader"
   ]
  },
  {
   "cell_type": "code",
   "execution_count": 1,
   "metadata": {},
   "outputs": [],
   "source": [
    "import numpy as np\n",
    "from data.getlandmark import *\n",
    "import matplotlib.pyplot as plt\n",
    "from mpl_toolkits.mplot3d import Axes3D\n",
    "import plotly.graph_objects as go\n",
    "from utils import *\n",
    "from torch.utils.data import Dataset, DataLoader\n",
    "# Get landmark using vocadataset.py\n",
    "from data.vocaset import *"
   ]
  },
  {
   "attachments": {},
   "cell_type": "markdown",
   "metadata": {},
   "source": [
    "Get landmark using vocaset class!"
   ]
  },
  {
   "cell_type": "code",
   "execution_count": null,
   "metadata": {},
   "outputs": [],
   "source": [
    "testset = vocadataset(\"test\", landmark=True)\n",
    "landmark, labels = testset[0]\n",
    "print(labels)"
   ]
  },
  {
   "cell_type": "code",
   "execution_count": null,
   "metadata": {},
   "outputs": [],
   "source": [
    "print(\"max: \",landmark[0].max().item(), \" min: \",landmark[0].min().item())"
   ]
  },
  {
   "cell_type": "code",
   "execution_count": null,
   "metadata": {},
   "outputs": [],
   "source": [
    "def normalize_data(data):\n",
    "    max_value = data.max()\n",
    "    min_value = data.min()\n",
    "    normalized_data = [(2 * (x - min_value) / (max_value - min_value)) - 1 for x in data]\n",
    "    return torch.tensor(normalized_data)"
   ]
  },
  {
   "cell_type": "code",
   "execution_count": null,
   "metadata": {},
   "outputs": [],
   "source": [
    "r = vocadataset(\"test\", landmark=False)\n",
    "v, la = r[0]\n",
    " \n",
    "def normalize( pointcloud):\n",
    "        \n",
    "        norm_pointcloud = pointcloud - np.mean(pointcloud, axis=0) \n",
    "        norm_pointcloud /= np.max(np.linalg.norm(norm_pointcloud, axis=1))\n",
    "\n",
    "        return  norm_pointcloud"
   ]
  },
  {
   "cell_type": "code",
   "execution_count": null,
   "metadata": {},
   "outputs": [],
   "source": [
    "torch.mean(v,)"
   ]
  },
  {
   "cell_type": "code",
   "execution_count": null,
   "metadata": {},
   "outputs": [],
   "source": [
    "plt.scatter(landmark[0][:,0], landmark[0][:,1], marker='.')\n",
    "#plt.scatter(landmark[10][:,0], landmark[10][:,1], marker='.')\n",
    "#plt.scatter(landmark[100][:,0], landmark[100][:,1], marker='.')\n",
    "\n",
    "plt.show()"
   ]
  },
  {
   "attachments": {},
   "cell_type": "markdown",
   "metadata": {},
   "source": [
    "### Get only mouth landmark"
   ]
  },
  {
   "cell_type": "code",
   "execution_count": 2,
   "metadata": {},
   "outputs": [
    {
     "data": {
      "image/png": "[encoded data removed]",
      "text/plain": [
       "<Figure size 640x480 with 1 Axes>"
      ]
     },
     "metadata": {},
     "output_type": "display_data"
    }
   ],
   "source": [
    "te = vocadataset(type=\"test\", landmark=True, mouthOnly=True)\n",
    "landmark_mouth, labels = te[0]\n",
    "plt.scatter(landmark_mouth[0][:,0], landmark_mouth[0][:,1], marker='.')\n",
    "plt.scatter(landmark_mouth[10][:,0], landmark_mouth[10][:,1], marker='.')\n",
    "plt.scatter(landmark_mouth[200][:,0], landmark_mouth[100][:,1], marker='.')\n",
    "plt.show()"
   ]
  },
  {
   "cell_type": "code",
   "execution_count": null,
   "metadata": {},
   "outputs": [],
   "source": [
    "print(landmark_mouth[0][:5])\n",
    "import torch.nn.functional as F\n",
    "print(F.normalize(landmark_mouth[0][:5], p=2, dim=1))"
   ]
  },
  {
   "cell_type": "code",
   "execution_count": null,
   "metadata": {},
   "outputs": [],
   "source": [
    "landmark_mouth[0].shape"
   ]
  },
  {
   "cell_type": "code",
   "execution_count": null,
   "metadata": {},
   "outputs": [],
   "source": [
    "\n",
    "testset = vocadataset(\"test\", landmark=True)\n",
    "\n",
    "dataloader = DataLoader(testset, batch_size=8, collate_fn=collate_fn, shuffle=True)\n",
    "\n",
    "landmark, len_landmark, label, len_label = next(iter(dataloader))\n"
   ]
  },
  {
   "cell_type": "code",
   "execution_count": null,
   "metadata": {},
   "outputs": [],
   "source": [
    "voca = vocabulary(blank = '-')"
   ]
  },
  {
   "cell_type": "code",
   "execution_count": null,
   "metadata": {},
   "outputs": [],
   "source": [
    "labels = char_to_index_batch(label, voca)"
   ]
  },
  {
   "cell_type": "code",
   "execution_count": null,
   "metadata": {},
   "outputs": [],
   "source": [
    "labels.shape"
   ]
  },
  {
   "cell_type": "code",
   "execution_count": null,
   "metadata": {},
   "outputs": [],
   "source": [
    "\"\"\"\n",
    "\n",
    "testset = vocadataset(\"test\", landmark=True)\n",
    "vertex_frame_0 = vertex[0]\n",
    "pcshow(vertex_frame_0[:,0], vertex_frame_0[:,1], vertex_frame_0[:,2])\n",
    "\n",
    "\n",
    "\"\"\""
   ]
  }
 ],
 "metadata": {
  "kernelspec": {
   "display_name": "env",
   "language": "python",
   "name": "python3"
  },
  "language_info": {
   "codemirror_mode": {
    "name": "ipython",
    "version": 3
   },
   "file_extension": ".py",
   "mimetype": "text/x-python",
   "name": "python",
   "nbconvert_exporter": "python",
   "pygments_lexer": "ipython3",
   "version": "3.10.11"
  },
  "orig_nbformat": 4,
  "vscode": {
   "interpreter": {
    "hash": "5e60b588e56b1bd547ea8afbc4b0f4ab4b79ce7cedb5d172a4ce68e35ca79034"
   }
  }
 },
 "nbformat": 4,
 "nbformat_minor": 2
}
