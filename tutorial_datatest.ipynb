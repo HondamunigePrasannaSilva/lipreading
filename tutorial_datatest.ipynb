{
 "cells": [
  {
   "attachments": {},
   "cell_type": "markdown",
   "metadata": {},
   "source": [
    "Notebook to test dataset and dataloader"
   ]
  },
  {
   "cell_type": "code",
   "execution_count": null,
   "metadata": {},
   "outputs": [],
   "source": [
    "import numpy as np\n",
    "from data.getlandmark import *\n",
    "import matplotlib.pyplot as plt\n",
    "from mpl_toolkits.mplot3d import Axes3D\n",
    "import plotly.graph_objects as go\n",
    "from utils import *\n",
    "from torch.utils.data import Dataset, DataLoader\n",
    "# Get landmark using vocadataset.py\n",
    "from data.vocaset import *"
   ]
  },
  {
   "attachments": {},
   "cell_type": "markdown",
   "metadata": {},
   "source": [
    "Get landmark using vocaset class!"
   ]
  },
  {
   "cell_type": "code",
   "execution_count": null,
   "metadata": {},
   "outputs": [],
   "source": [
    "testset = vocadataset(\"test\", landmark=True)\n",
    "landmark, labels = testset[0]\n",
    "print(labels)"
   ]
  },
  {
   "cell_type": "code",
   "execution_count": null,
   "metadata": {},
   "outputs": [],
   "source": [
    "plt.scatter(landmark[0][:,0], landmark[0][:,1], marker='.')\n",
    "#plt.scatter(landmark[10][:,0], landmark[10][:,1], marker='.')\n",
    "#plt.scatter(landmark[100][:,0], landmark[100][:,1], marker='.')\n",
    "\n",
    "plt.show()"
   ]
  },
  {
   "attachments": {},
   "cell_type": "markdown",
   "metadata": {},
   "source": [
    "## Testing getOnly mouth landmark and plotting in 2D\n",
    "### Get only mouth landmark"
   ]
  },
  {
   "cell_type": "code",
   "execution_count": null,
   "metadata": {},
   "outputs": [],
   "source": [
    "test = vocadataset(type=\"test\", landmark=True, mouthOnly=True)\n",
    "landmark_mouth, labels = test[0]\n",
    "plt.scatter(landmark_mouth[0][:,0], landmark_mouth[0][:,1], marker='.')\n",
    "plt.scatter(landmark_mouth[10][:,0], landmark_mouth[10][:,1], marker='.')\n",
    "plt.scatter(landmark_mouth[200][:,0], landmark_mouth[100][:,1], marker='.')\n",
    "plt.show()"
   ]
  },
  {
   "attachments": {},
   "cell_type": "markdown",
   "metadata": {},
   "source": [
    "## Text dataloader \n",
    "#### The dataloader returns the *landmark*, original *landmark length* before padding, *labels* padded, and *label length* before padding"
   ]
  },
  {
   "cell_type": "code",
   "execution_count": null,
   "metadata": {},
   "outputs": [],
   "source": [
    "\n",
    "testset = vocadataset(\"test\", landmark=True)\n",
    "\n",
    "dataloader = DataLoader(testset, batch_size=8, collate_fn=collate_fn, shuffle=True)\n",
    "\n",
    "landmark, len_landmark, label, len_label = next(iter(dataloader))\n"
   ]
  },
  {
   "attachments": {},
   "cell_type": "markdown",
   "metadata": {},
   "source": [
    "## Test vertex plotting in 3D"
   ]
  },
  {
   "cell_type": "code",
   "execution_count": null,
   "metadata": {},
   "outputs": [],
   "source": [
    "testset = vocadataset(\"test\", landmark=False, mouthOnly=True)\n",
    "dataloader = DataLoader(testset, batch_size=1, collate_fn=collate_fn, shuffle=True)\n",
    "\n",
    "vertex,vertex_len ,lab, lab_len = next(iter(dataloader))\n",
    "vertex_frame_0 = vertex[0][0]\n",
    "pcshow(vertex_frame_0[:,0], vertex_frame_0[:,1], vertex_frame_0[:,2])\n"
   ]
  },
  {
   "cell_type": "code",
   "execution_count": null,
   "metadata": {},
   "outputs": [],
   "source": [
    "vertex.shape"
   ]
  },
  {
   "cell_type": "code",
   "execution_count": null,
   "metadata": {},
   "outputs": [],
   "source": [
    "import imageio\n",
    "from PIL import Image\n",
    "\n",
    "def create_gif(figures, filename, duration=0.5):\n",
    "    images = []\n",
    "    \n",
    "    for fig in figures:\n",
    "        # Create a temporary file to save the figure as an image\n",
    "        temp_file = 'temp.png'\n",
    "        fig.savefig(temp_file)\n",
    "        \n",
    "        # Open the temporary file using PIL\n",
    "        image = Image.open(temp_file)\n",
    "        images.append(image)\n",
    "        \n",
    "    # Save the images as a GIF using imageio\n",
    "    imageio.mimsave(filename, images, duration=duration)\n",
    "    \n",
    "    # Remove the temporary file\n",
    "    import os\n",
    "    os.remove(temp_file)\n",
    "    "
   ]
  }
 ],
 "metadata": {
  "kernelspec": {
   "display_name": "venv",
   "language": "python",
   "name": "python3"
  },
  "language_info": {
   "codemirror_mode": {
    "name": "ipython",
    "version": 3
   },
   "file_extension": ".py",
   "mimetype": "text/x-python",
   "name": "python",
   "nbconvert_exporter": "python",
   "pygments_lexer": "ipython3",
   "version": "3.10.6"
  },
  "orig_nbformat": 4,
  "vscode": {
   "interpreter": {
    "hash": "eb22b1e55b1fbd8f3cffd3928edc0da66604f23d4dbbba430356986a4eac359a"
   }
  }
 },
 "nbformat": 4,
 "nbformat_minor": 2
}
