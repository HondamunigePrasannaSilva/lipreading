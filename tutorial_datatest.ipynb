{
 "cells": [
  {
   "attachments": {},
   "cell_type": "markdown",
   "metadata": {},
   "source": [
    "Notebook to test dataset and dataloader"
   ]
  },
  {
   "cell_type": "code",
   "execution_count": 1,
   "metadata": {},
   "outputs": [],
   "source": [
    "import numpy as np\n",
    "from data.getlandmark import *\n",
    "import matplotlib.pyplot as plt\n",
    "from mpl_toolkits.mplot3d import Axes3D\n",
    "import plotly.graph_objects as go\n",
    "from utils import *\n",
    "from torch.utils.data import Dataset, DataLoader\n"
   ]
  },
  {
   "attachments": {},
   "cell_type": "markdown",
   "metadata": {},
   "source": [
    "Get landmark using vocaset class!"
   ]
  },
  {
   "cell_type": "code",
   "execution_count": 2,
   "metadata": {},
   "outputs": [],
   "source": [
    "# Get landmark using vocadataset.py\n",
    "from data.vocaset import *"
   ]
  },
  {
   "cell_type": "code",
   "execution_count": null,
   "metadata": {},
   "outputs": [],
   "source": [
    "testset = vocadataset(\"test\", landmark=True)\n",
    "landmark, labels = testset[0]\n",
    "print(labels)"
   ]
  },
  {
   "cell_type": "code",
   "execution_count": null,
   "metadata": {},
   "outputs": [],
   "source": [
    "print(\"max: \",landmark[0].max().item(), \" min: \",landmark[0].min().item())"
   ]
  },
  {
   "cell_type": "code",
   "execution_count": null,
   "metadata": {},
   "outputs": [],
   "source": [
    "def normalize_data(data):\n",
    "    max_value = data.max()\n",
    "    min_value = data.min()\n",
    "    normalized_data = [(2 * (x - min_value) / (max_value - min_value)) - 1 for x in data]\n",
    "    return torch.tensor(normalized_data)"
   ]
  },
  {
   "cell_type": "code",
   "execution_count": null,
   "metadata": {},
   "outputs": [],
   "source": [
    "r = vocadataset(\"test\", landmark=False)\n",
    "v, la = r[0]\n",
    " \n",
    "def normalize( pointcloud):\n",
    "        \n",
    "        norm_pointcloud = pointcloud - np.mean(pointcloud, axis=0) \n",
    "        norm_pointcloud /= np.max(np.linalg.norm(norm_pointcloud, axis=1))\n",
    "\n",
    "        return  norm_pointcloud"
   ]
  },
  {
   "cell_type": "code",
   "execution_count": null,
   "metadata": {},
   "outputs": [],
   "source": [
    "torch.mean(v,)"
   ]
  },
  {
   "cell_type": "code",
   "execution_count": null,
   "metadata": {},
   "outputs": [],
   "source": [
    "plt.scatter(landmark[0][:,0], landmark[0][:,1], marker='.')\n",
    "#plt.scatter(landmark[10][:,0], landmark[10][:,1], marker='.')\n",
    "#plt.scatter(landmark[100][:,0], landmark[100][:,1], marker='.')\n",
    "\n",
    "plt.show()"
   ]
  },
  {
   "attachments": {},
   "cell_type": "markdown",
   "metadata": {},
   "source": [
    "### Get only mouth landmark"
   ]
  },
  {
   "cell_type": "code",
   "execution_count": null,
   "metadata": {},
   "outputs": [],
   "source": [
    "te = vocadataset(type=\"test\", landmark=True, mouthOnly=True)\n",
    "landmark_mouth, labels = te[0]\n",
    "plt.scatter(landmark_mouth[0][:,0], landmark_mouth[0][:,1], marker='.')\n",
    "#plt.scatter(landmark_mouth[10][:,0], landmark_mouth[10][:,1], marker='.')\n",
    "#plt.scatter(landmark_mouth[100][:,0], landmark_mouth[100][:,1], marker='.')\n",
    "plt.show()"
   ]
  },
  {
   "cell_type": "code",
   "execution_count": null,
   "metadata": {},
   "outputs": [],
   "source": [
    "testset = vocadataset(\"test\", landmark=True)"
   ]
  },
  {
   "cell_type": "code",
   "execution_count": 3,
   "metadata": {},
   "outputs": [],
   "source": [
    "\n",
    "testset = vocadataset(\"test\", landmark=True)\n",
    "\n",
    "dataloader = DataLoader(testset, batch_size=16, collate_fn=collate_fn, shuffle=True)\n",
    "\n",
    "landmark, len_landmark, label, len_label = next(iter(dataloader))\n"
   ]
  },
  {
   "cell_type": "code",
   "execution_count": null,
   "metadata": {},
   "outputs": [],
   "source": [
    "label"
   ]
  },
  {
   "cell_type": "code",
   "execution_count": 4,
   "metadata": {},
   "outputs": [
    {
     "name": "stdout",
     "output_type": "stream",
     "text": [
      "{'-': 0, 'a': 1, 'b': 2, 'c': 3, 'd': 4, 'e': 5, 'f': 6, 'g': 7, 'h': 8, 'i': 9, 'j': 10, 'k': 11, 'l': 12, 'm': 13, 'n': 14, 'o': 15, 'p': 16, 'q': 17, 'r': 18, 's': 19, 't': 20, 'u': 21, 'v': 22, 'w': 23, 'x': 24, 'y': 25, 'z': 26, '.': 27, '?': 28, ',': 29, '!': 30, \"'\": 31, '@': 32, '#': 33, ' ': 34}\n"
     ]
    }
   ],
   "source": [
    "vocabulary = vocabulary(blank='-', start='@', stop='#')\n",
    "char_to_index = {char: index for index, char in enumerate(vocabulary)}\n",
    "print(char_to_index)"
   ]
  },
  {
   "cell_type": "code",
   "execution_count": 13,
   "metadata": {},
   "outputs": [],
   "source": [
    "labels = []\n",
    "for ilab in label:\n",
    "    \n",
    "    target_indices = [char_to_index[char] for char in ilab]\n",
    "    #print(target_indices)\n",
    "    labels.append(target_indices)\n",
    "\n",
    "\n",
    "labels = torch.tensor(labels)"
   ]
  },
  {
   "cell_type": "code",
   "execution_count": 15,
   "metadata": {},
   "outputs": [
    {
     "data": {
      "text/plain": [
       "tensor([ 9, 31, 12, 12, 34,  8,  1, 22,  5, 34,  1, 34, 19,  3, 15, 15, 16, 34,\n",
       "        15,  6, 34, 20,  8,  1, 20, 34,  5, 24, 15, 20,  9,  3, 34, 16, 21, 18,\n",
       "        16, 12,  5, 34,  1, 14,  4, 34, 20, 21, 18, 17, 21, 15,  9, 19,  5, 34,\n",
       "        19,  8,  5, 18,  2,  5, 20, 20, 20, 20, 20, 20, 20, 20, 20, 20, 20, 20,\n",
       "        20, 20, 20, 20, 20, 20])"
      ]
     },
     "execution_count": 15,
     "metadata": {},
     "output_type": "execute_result"
    }
   ],
   "source": [
    "labels[0]"
   ]
  },
  {
   "cell_type": "code",
   "execution_count": null,
   "metadata": {},
   "outputs": [],
   "source": [
    "\"\"\"vertex_frame_0 = vertex[0]\n",
    "pcshow(vertex_frame_0[:,0], vertex_frame_0[:,1], vertex_frame_0[:,2])\"\"\""
   ]
  }
 ],
 "metadata": {
  "kernelspec": {
   "display_name": "env",
   "language": "python",
   "name": "python3"
  },
  "language_info": {
   "codemirror_mode": {
    "name": "ipython",
    "version": 3
   },
   "file_extension": ".py",
   "mimetype": "text/x-python",
   "name": "python",
   "nbconvert_exporter": "python",
   "pygments_lexer": "ipython3",
   "version": "3.10.11"
  },
  "orig_nbformat": 4,
  "vscode": {
   "interpreter": {
    "hash": "5e60b588e56b1bd547ea8afbc4b0f4ab4b79ce7cedb5d172a4ce68e35ca79034"
   }
  }
 },
 "nbformat": 4,
 "nbformat_minor": 2
}
