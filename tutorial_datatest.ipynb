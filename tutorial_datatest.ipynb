{
 "cells": [
  {
   "attachments": {},
   "cell_type": "markdown",
   "metadata": {},
   "source": [
    "Notebook to test dataset and dataloader"
   ]
  },
  {
   "cell_type": "code",
   "execution_count": 1,
   "metadata": {},
   "outputs": [],
   "source": [
    "import numpy as np\n",
    "from data.getlandmark import *\n",
    "import matplotlib.pyplot as plt\n",
    "from mpl_toolkits.mplot3d import Axes3D\n",
    "import plotly.graph_objects as go\n",
    "from utils import *\n",
    "from torch.utils.data import Dataset, DataLoader\n",
    "# Get landmark using vocadataset.py\n",
    "from data.vocaset import *"
   ]
  },
  {
   "attachments": {},
   "cell_type": "markdown",
   "metadata": {},
   "source": [
    "Get landmark using vocaset class!"
   ]
  },
  {
   "cell_type": "code",
   "execution_count": 3,
   "metadata": {},
   "outputs": [
    {
     "name": "stdout",
     "output_type": "stream",
     "text": [
      "[6, 11, 0, 4]\n",
      "[6, 11, 0, 4]\n",
      "start 0 final 219\n",
      "torch.Size([23745, 68, 3])\n"
     ]
    }
   ],
   "source": [
    "train = vocadataset(\"val\", landmark=True)\n",
    "landmark, labels = train[0]\n",
    "\n",
    "train_ = vocadataset(\"val\", landmark=True, savelandmarks=True)\n",
    "landmark, lab = train_[0]\n"
   ]
  },
  {
   "cell_type": "code",
   "execution_count": null,
   "metadata": {},
   "outputs": [],
   "source": [
    "landmark_, labels_ = train_[0]"
   ]
  },
  {
   "cell_type": "code",
   "execution_count": 4,
   "metadata": {},
   "outputs": [],
   "source": [
    "dataloader = DataLoader(train, batch_size=1, collate_fn=collate_fn, shuffle=False)\n",
    "dataloader_ = DataLoader(train_, batch_size=1,collate_fn=collate_fn, shuffle=True)\n"
   ]
  },
  {
   "cell_type": "code",
   "execution_count": 4,
   "metadata": {},
   "outputs": [
    {
     "name": "stdout",
     "output_type": "stream",
     "text": [
      "torch.Size([1, 219, 68, 3])\n",
      "torch.Size([1, 232, 68, 3])\n",
      "torch.Size([1, 358, 68, 3])\n",
      "torch.Size([1, 267, 68, 3])\n",
      "torch.Size([1, 308, 68, 3])\n",
      "torch.Size([1, 348, 68, 3])\n"
     ]
    }
   ],
   "source": [
    "for i, (landmark, lll, lab, ll) in enumerate(dataloader):\n",
    "    print(landmark.shape)\n",
    "    if(i == 5):\n",
    "        break\n",
    "\n"
   ]
  },
  {
   "cell_type": "code",
   "execution_count": 22,
   "metadata": {},
   "outputs": [
    {
     "data": {
      "text/plain": [
       "23745"
      ]
     },
     "execution_count": 22,
     "metadata": {},
     "output_type": "execute_result"
    }
   ],
   "source": [
    "train_.landmarks.shape[0]"
   ]
  },
  {
   "cell_type": "code",
   "execution_count": 5,
   "metadata": {},
   "outputs": [
    {
     "name": "stdout",
     "output_type": "stream",
     "text": [
      "start 18518 final 18802\n",
      "torch.Size([23745, 68, 3])\n",
      "torch.Size([1, 284, 68, 3])\n",
      "start 7469 final 7706\n",
      "torch.Size([23745, 68, 3])\n",
      "torch.Size([1, 237, 68, 3])\n",
      "start 9847 final 10104\n",
      "torch.Size([23745, 68, 3])\n",
      "torch.Size([1, 257, 68, 3])\n",
      "start 3940 final 4196\n",
      "torch.Size([23745, 68, 3])\n",
      "torch.Size([1, 256, 68, 3])\n",
      "start 20007 final 20301\n",
      "torch.Size([23745, 68, 3])\n",
      "torch.Size([1, 294, 68, 3])\n",
      "start 9588 final 9847\n",
      "torch.Size([23745, 68, 3])\n",
      "torch.Size([1, 259, 68, 3])\n",
      "start 2549 final 2798\n",
      "torch.Size([23745, 68, 3])\n",
      "torch.Size([1, 249, 68, 3])\n",
      "start 17226 final 17432\n",
      "torch.Size([23745, 68, 3])\n",
      "torch.Size([1, 206, 68, 3])\n",
      "start 15839 final 16119\n",
      "torch.Size([23745, 68, 3])\n",
      "torch.Size([1, 280, 68, 3])\n",
      "start 10581 final 10842\n",
      "torch.Size([23745, 68, 3])\n",
      "torch.Size([1, 261, 68, 3])\n",
      "start 12581 final 13021\n",
      "torch.Size([23745, 68, 3])\n",
      "torch.Size([1, 440, 68, 3])\n",
      "start 18802 final 19171\n",
      "torch.Size([23745, 68, 3])\n",
      "torch.Size([1, 369, 68, 3])\n",
      "start 1732 final 1996\n",
      "torch.Size([23745, 68, 3])\n",
      "torch.Size([1, 264, 68, 3])\n",
      "start 21311 final 21761\n",
      "torch.Size([23745, 68, 3])\n",
      "torch.Size([1, 450, 68, 3])\n",
      "start 3371 final 3680\n",
      "torch.Size([23745, 68, 3])\n",
      "torch.Size([1, 309, 68, 3])\n",
      "start 10104 final 10307\n",
      "torch.Size([23745, 68, 3])\n",
      "torch.Size([1, 203, 68, 3])\n",
      "start 16119 final 16439\n",
      "torch.Size([23745, 68, 3])\n",
      "torch.Size([1, 320, 68, 3])\n",
      "start 20891 final 21311\n",
      "torch.Size([23745, 68, 3])\n",
      "torch.Size([1, 420, 68, 3])\n",
      "start 1384 final 1732\n",
      "torch.Size([23745, 68, 3])\n",
      "torch.Size([1, 348, 68, 3])\n",
      "start 7024 final 7231\n",
      "torch.Size([23745, 68, 3])\n",
      "torch.Size([1, 207, 68, 3])\n",
      "start 2251 final 2549\n",
      "torch.Size([23745, 68, 3])\n",
      "torch.Size([1, 298, 68, 3])\n",
      "start 8687 final 9040\n",
      "torch.Size([23745, 68, 3])\n",
      "torch.Size([1, 353, 68, 3])\n",
      "start 5366 final 5601\n",
      "torch.Size([23745, 68, 3])\n",
      "torch.Size([1, 235, 68, 3])\n",
      "start 4499 final 4736\n",
      "torch.Size([23745, 68, 3])\n",
      "torch.Size([1, 237, 68, 3])\n",
      "start 22370 final 22818\n",
      "torch.Size([23745, 68, 3])\n",
      "torch.Size([1, 448, 68, 3])\n",
      "start 11493 final 11737\n",
      "torch.Size([23745, 68, 3])\n",
      "torch.Size([1, 244, 68, 3])\n",
      "start 2798 final 3074\n",
      "torch.Size([23745, 68, 3])\n",
      "torch.Size([1, 276, 68, 3])\n",
      "start 17957 final 18271\n",
      "torch.Size([23745, 68, 3])\n",
      "torch.Size([1, 314, 68, 3])\n",
      "start 15586 final 15839\n",
      "torch.Size([23745, 68, 3])\n",
      "torch.Size([1, 253, 68, 3])\n",
      "start 6792 final 7024\n",
      "torch.Size([23745, 68, 3])\n",
      "torch.Size([1, 232, 68, 3])\n",
      "start 219 final 451\n",
      "torch.Size([23745, 68, 3])\n",
      "torch.Size([1, 232, 68, 3])\n",
      "start 11737 final 12200\n",
      "torch.Size([23745, 68, 3])\n",
      "torch.Size([1, 463, 68, 3])\n",
      "start 16995 final 17226\n",
      "torch.Size([23745, 68, 3])\n",
      "torch.Size([1, 231, 68, 3])\n",
      "start 16728 final 16995\n",
      "torch.Size([23745, 68, 3])\n",
      "torch.Size([1, 267, 68, 3])\n",
      "start 14667 final 14936\n",
      "torch.Size([23745, 68, 3])\n",
      "torch.Size([1, 269, 68, 3])\n",
      "start 0 final 219\n",
      "torch.Size([23745, 68, 3])\n",
      "torch.Size([1, 219, 68, 3])\n",
      "start 1996 final 2251\n",
      "torch.Size([23745, 68, 3])\n",
      "torch.Size([1, 255, 68, 3])\n",
      "start 19171 final 19456\n",
      "torch.Size([23745, 68, 3])\n",
      "torch.Size([1, 285, 68, 3])\n",
      "start 18271 final 18518\n",
      "torch.Size([23745, 68, 3])\n",
      "torch.Size([1, 247, 68, 3])\n",
      "start 14306 final 14667\n",
      "torch.Size([23745, 68, 3])\n",
      "torch.Size([1, 361, 68, 3])\n",
      "start 17432 final 17665\n",
      "torch.Size([23745, 68, 3])\n",
      "torch.Size([1, 233, 68, 3])\n",
      "start 23193 final 23461\n",
      "torch.Size([23745, 68, 3])\n",
      "torch.Size([1, 268, 68, 3])\n",
      "start 20633 final 20891\n",
      "torch.Size([23745, 68, 3])\n",
      "torch.Size([1, 258, 68, 3])\n",
      "start 7706 final 8046\n",
      "torch.Size([23745, 68, 3])\n",
      "torch.Size([1, 340, 68, 3])\n",
      "start 17665 final 17957\n",
      "torch.Size([23745, 68, 3])\n",
      "torch.Size([1, 292, 68, 3])\n",
      "start 12200 final 12581\n",
      "torch.Size([23745, 68, 3])\n",
      "torch.Size([1, 381, 68, 3])\n",
      "start 13289 final 13653\n",
      "torch.Size([23745, 68, 3])\n",
      "torch.Size([1, 364, 68, 3])\n",
      "start 14936 final 15284\n",
      "torch.Size([23745, 68, 3])\n",
      "torch.Size([1, 348, 68, 3])\n",
      "start 8336 final 8687\n",
      "torch.Size([23745, 68, 3])\n",
      "torch.Size([1, 351, 68, 3])\n",
      "start 22036 final 22370\n",
      "torch.Size([23745, 68, 3])\n",
      "torch.Size([1, 334, 68, 3])\n",
      "start 809 final 1076\n",
      "torch.Size([23745, 68, 3])\n",
      "torch.Size([1, 267, 68, 3])\n",
      "start 5107 final 5366\n",
      "torch.Size([23745, 68, 3])\n",
      "torch.Size([1, 259, 68, 3])\n",
      "start 20301 final 20633\n",
      "torch.Size([23745, 68, 3])\n",
      "torch.Size([1, 332, 68, 3])\n",
      "start 19743 final 20007\n",
      "torch.Size([23745, 68, 3])\n",
      "torch.Size([1, 264, 68, 3])\n",
      "start 5911 final 6244\n",
      "torch.Size([23745, 68, 3])\n",
      "torch.Size([1, 333, 68, 3])\n",
      "start 15284 final 15586\n",
      "torch.Size([23745, 68, 3])\n",
      "torch.Size([1, 302, 68, 3])\n",
      "start 23461 final 23745\n",
      "torch.Size([23745, 68, 3])\n",
      "torch.Size([1, 284, 68, 3])\n",
      "start 9040 final 9283\n",
      "torch.Size([23745, 68, 3])\n",
      "torch.Size([1, 243, 68, 3])\n",
      "start 9283 final 9588\n",
      "torch.Size([23745, 68, 3])\n",
      "torch.Size([1, 305, 68, 3])\n",
      "start 5601 final 5911\n",
      "torch.Size([23745, 68, 3])\n",
      "torch.Size([1, 310, 68, 3])\n",
      "start 16439 final 16728\n",
      "torch.Size([23745, 68, 3])\n",
      "torch.Size([1, 289, 68, 3])\n",
      "start 19456 final 19743\n",
      "torch.Size([23745, 68, 3])\n",
      "torch.Size([1, 287, 68, 3])\n",
      "start 13984 final 14306\n",
      "torch.Size([23745, 68, 3])\n",
      "torch.Size([1, 322, 68, 3])\n",
      "start 7231 final 7469\n",
      "torch.Size([23745, 68, 3])\n",
      "torch.Size([1, 238, 68, 3])\n",
      "start 4196 final 4499\n",
      "torch.Size([23745, 68, 3])\n",
      "torch.Size([1, 303, 68, 3])\n",
      "start 13021 final 13289\n",
      "torch.Size([23745, 68, 3])\n",
      "torch.Size([1, 268, 68, 3])\n",
      "start 6244 final 6466\n",
      "torch.Size([23745, 68, 3])\n",
      "torch.Size([1, 222, 68, 3])\n",
      "start 21761 final 22036\n",
      "torch.Size([23745, 68, 3])\n",
      "torch.Size([1, 275, 68, 3])\n",
      "start 22818 final 23193\n",
      "torch.Size([23745, 68, 3])\n",
      "torch.Size([1, 375, 68, 3])\n",
      "start 4736 final 5107\n",
      "torch.Size([23745, 68, 3])\n",
      "torch.Size([1, 371, 68, 3])\n",
      "start 13653 final 13984\n",
      "torch.Size([23745, 68, 3])\n",
      "torch.Size([1, 331, 68, 3])\n",
      "start 451 final 809\n",
      "torch.Size([23745, 68, 3])\n",
      "torch.Size([1, 358, 68, 3])\n",
      "start 3074 final 3371\n",
      "torch.Size([23745, 68, 3])\n",
      "torch.Size([1, 297, 68, 3])\n",
      "start 10842 final 11246\n",
      "torch.Size([23745, 68, 3])\n",
      "torch.Size([1, 404, 68, 3])\n",
      "start 10307 final 10581\n",
      "torch.Size([23745, 68, 3])\n",
      "torch.Size([1, 274, 68, 3])\n",
      "start 8046 final 8336\n",
      "torch.Size([23745, 68, 3])\n",
      "torch.Size([1, 290, 68, 3])\n",
      "start 11246 final 11493\n",
      "torch.Size([23745, 68, 3])\n",
      "torch.Size([1, 247, 68, 3])\n",
      "start 3680 final 3940\n",
      "torch.Size([23745, 68, 3])\n",
      "torch.Size([1, 260, 68, 3])\n",
      "start 6466 final 6792\n",
      "torch.Size([23745, 68, 3])\n",
      "torch.Size([1, 326, 68, 3])\n",
      "start 1076 final 1384\n",
      "torch.Size([23745, 68, 3])\n",
      "torch.Size([1, 308, 68, 3])\n"
     ]
    }
   ],
   "source": [
    "for i, (landmark, lll, lab, ll) in enumerate(dataloader_):\n",
    "    print(landmark.shape)"
   ]
  },
  {
   "cell_type": "code",
   "execution_count": null,
   "metadata": {},
   "outputs": [],
   "source": [
    "landmark.shape"
   ]
  },
  {
   "cell_type": "code",
   "execution_count": null,
   "metadata": {},
   "outputs": [],
   "source": [
    "plt.scatter(landmark[0][:,0], landmark[0][:,1], marker='.')\n",
    "plt.scatter(landmark_[0][:,0], landmark_[0][:,1], marker='.')\n",
    "#plt.scatter(landmark[100][:,0], landmark[100][:,1], marker='.')\n",
    "\n",
    "plt.show()"
   ]
  },
  {
   "attachments": {},
   "cell_type": "markdown",
   "metadata": {},
   "source": [
    "## Testing getOnly mouth landmark and plotting in 2D\n",
    "### Get only mouth landmark"
   ]
  },
  {
   "cell_type": "code",
   "execution_count": null,
   "metadata": {},
   "outputs": [],
   "source": [
    "test = vocadataset(type=\"test\", landmark=True, mouthOnly=True)\n",
    "landmark_mouth, labels = test[0]\n",
    "plt.scatter(landmark_mouth[0][:,0], landmark_mouth[0][:,1], marker='.')\n",
    "plt.scatter(landmark_mouth[10][:,0], landmark_mouth[10][:,1], marker='.')\n",
    "plt.scatter(landmark_mouth[200][:,0], landmark_mouth[100][:,1], marker='.')\n",
    "plt.show()"
   ]
  },
  {
   "attachments": {},
   "cell_type": "markdown",
   "metadata": {},
   "source": [
    "## Text dataloader \n",
    "#### The dataloader returns the *landmark*, original *landmark length* before padding, *labels* padded, and *label length* before padding"
   ]
  },
  {
   "cell_type": "code",
   "execution_count": null,
   "metadata": {},
   "outputs": [],
   "source": [
    "\n",
    "testset = vocadataset(\"test\", landmark=True)\n",
    "\n",
    "dataloader = DataLoader(testset, batch_size=8, collate_fn=collate_fn, shuffle=True)\n",
    "\n",
    "landmark, len_landmark, label, len_label = next(iter(dataloader))\n"
   ]
  },
  {
   "attachments": {},
   "cell_type": "markdown",
   "metadata": {},
   "source": [
    "## Test vertex plotting in 3D"
   ]
  },
  {
   "cell_type": "code",
   "execution_count": null,
   "metadata": {},
   "outputs": [],
   "source": [
    "testset = vocadataset(\"test\", landmark=False, mouthOnly=True)\n",
    "dataloader = DataLoader(testset, batch_size=1, collate_fn=collate_fn, shuffle=True)\n",
    "\n",
    "vertex,vertex_len ,lab, lab_len = next(iter(dataloader))\n",
    "vertex_frame_0 = vertex[0][0]\n",
    "pcshow(vertex_frame_0[:,0], vertex_frame_0[:,1], vertex_frame_0[:,2])\n"
   ]
  },
  {
   "cell_type": "code",
   "execution_count": null,
   "metadata": {},
   "outputs": [],
   "source": [
    "vertex.shape"
   ]
  },
  {
   "cell_type": "code",
   "execution_count": null,
   "metadata": {},
   "outputs": [],
   "source": [
    "import imageio\n",
    "from PIL import Image\n",
    "\n",
    "def create_gif(figures, filename, duration=0.5):\n",
    "    images = []\n",
    "    \n",
    "    for fig in figures:\n",
    "        # Create a temporary file to save the figure as an image\n",
    "        temp_file = 'temp.png'\n",
    "        fig.savefig(temp_file)\n",
    "        \n",
    "        # Open the temporary file using PIL\n",
    "        image = Image.open(temp_file)\n",
    "        images.append(image)\n",
    "        \n",
    "    # Save the images as a GIF using imageio\n",
    "    imageio.mimsave(filename, images, duration=duration)\n",
    "    \n",
    "    # Remove the temporary file\n",
    "    import os\n",
    "    os.remove(temp_file)\n",
    "    "
   ]
  }
 ],
 "metadata": {
  "kernelspec": {
   "display_name": "venv",
   "language": "python",
   "name": "python3"
  },
  "language_info": {
   "codemirror_mode": {
    "name": "ipython",
    "version": 3
   },
   "file_extension": ".py",
   "mimetype": "text/x-python",
   "name": "python",
   "nbconvert_exporter": "python",
   "pygments_lexer": "ipython3",
   "version": "3.10.6"
  },
  "orig_nbformat": 4,
  "vscode": {
   "interpreter": {
    "hash": "eb22b1e55b1fbd8f3cffd3928edc0da66604f23d4dbbba430356986a4eac359a"
   }
  }
 },
 "nbformat": 4,
 "nbformat_minor": 2
}
